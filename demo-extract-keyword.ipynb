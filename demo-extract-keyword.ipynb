{
 "cells": [
  {
   "cell_type": "code",
   "execution_count": 12,
   "metadata": {},
   "outputs": [],
   "source": [
    "from jieba.analyse import *"
   ]
  },
  {
   "cell_type": "code",
   "execution_count": 13,
   "metadata": {},
   "outputs": [],
   "source": [
    "with open('sample-2.txt') as f:\n",
    "    data = f.read()"
   ]
  },
  {
   "cell_type": "code",
   "execution_count": 14,
   "metadata": {},
   "outputs": [
    {
     "name": "stdout",
     "output_type": "stream",
     "text": [
      "回族 0.230601891297\n",
      "你们 0.101827119363\n",
      "惹不起 0.0877232262204\n",
      "民族 0.0870271225343\n",
      "自己 0.0704684362834\n",
      "猪肉 0.0587151752079\n",
      "56 0.0571811903606\n",
      "面试官 0.0532824728361\n",
      "特权 0.0459708843346\n",
      "一家 0.0449958051827\n",
      "食堂 0.041750361307\n",
      "一家人 0.0405812106381\n",
      "天龙 0.0385782926156\n",
      "歧视 0.0379226637069\n",
      "我们 0.0372348205964\n",
      "清真 0.0367789966473\n",
      "高考 0.0341443819116\n",
      "哈哈哈 0.0332195258081\n",
      "回民 0.0329838879676\n",
      "活该 0.0325509568247\n"
     ]
    }
   ],
   "source": [
    "for keyword, weight in extract_tags(data, withWeight=True):\n",
    "    print('%s %s' % (keyword, weight))"
   ]
  },
  {
   "cell_type": "code",
   "execution_count": 15,
   "metadata": {},
   "outputs": [
    {
     "name": "stdout",
     "output_type": "stream",
     "text": [
      "民族 1.0\n",
      "宗教 0.453701773492\n",
      "特权 0.4361571075\n",
      "公司 0.398510941431\n",
      "工作 0.392700241459\n",
      "企业 0.382411672057\n",
      "猪肉 0.360369472967\n",
      "食堂 0.352811722874\n",
      "吃饭 0.324061643473\n",
      "大家 0.32023788656\n",
      "一家人 0.314030119056\n",
      "歧视 0.305418340752\n",
      "面试官 0.297637979963\n",
      "民族团结 0.249316936893\n",
      "回民 0.240433821818\n",
      "政策 0.2303769196\n",
      "单位 0.214584791061\n",
      "同事 0.185488323803\n",
      "生活 0.178331012655\n",
      "活该 0.168171013989\n"
     ]
    }
   ],
   "source": [
    "for keyword, weight in textrank(data, withWeight=True):\n",
    "    print('%s %s' % (keyword, weight))"
   ]
  },
  {
   "cell_type": "code",
   "execution_count": null,
   "metadata": {},
   "outputs": [],
   "source": []
  }
 ],
 "metadata": {
  "kernelspec": {
   "display_name": "Python 2",
   "language": "python",
   "name": "python2"
  },
  "language_info": {
   "codemirror_mode": {
    "name": "ipython",
    "version": 2
   },
   "file_extension": ".py",
   "mimetype": "text/x-python",
   "name": "python",
   "nbconvert_exporter": "python",
   "pygments_lexer": "ipython2",
   "version": "2.7.16"
  }
 },
 "nbformat": 4,
 "nbformat_minor": 1
}
