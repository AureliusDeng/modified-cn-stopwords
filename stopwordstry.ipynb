{
 "cells": [
  {
   "cell_type": "code",
   "execution_count": 1,
   "metadata": {},
   "outputs": [
    {
     "name": "stderr",
     "output_type": "stream",
     "text": [
      "Building prefix dict from the default dictionary ...\n",
      "Loading model from cache c:\\users\\ldeng\\appdata\\local\\temp\\jieba.cache\n",
      "Loading model cost 0.376 seconds.\n",
      "Prefix dict has been built succesfully.\n"
     ]
    }
   ],
   "source": [
    "#coding=utf-8\n",
    "import jieba. analyse\n",
    "stopwords=[]\n",
    "for word in open('stopwords_cn.txt','r'):\n",
    " stopwords.append(word.strip())\n",
    "article=open('sample.txt','r').read()\n",
    "words=jieba.cut(article,cut_all=False)\n",
    "stayed_line=\"\"\n",
    "for word in words:\n",
    " if word.encode(\"utf-8\")not in stopwords:\n",
    "  stayed_line+=word+\" \"\n",
    "\n",
    "w=open('sample-2.txt','w')\n",
    "w.write(stayed_line.encode('utf-8'))"
   ]
  },
  {
   "cell_type": "code",
   "execution_count": null,
   "metadata": {},
   "outputs": [],
   "source": []
  }
 ],
 "metadata": {
  "kernelspec": {
   "display_name": "Python 2",
   "language": "python",
   "name": "python2"
  },
  "language_info": {
   "codemirror_mode": {
    "name": "ipython",
    "version": 2
   },
   "file_extension": ".py",
   "mimetype": "text/x-python",
   "name": "python",
   "nbconvert_exporter": "python",
   "pygments_lexer": "ipython2",
   "version": "2.7.16"
  }
 },
 "nbformat": 4,
 "nbformat_minor": 2
}
