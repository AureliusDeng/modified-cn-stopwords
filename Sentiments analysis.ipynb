{
 "cells": [
  {
   "cell_type": "code",
   "execution_count": 10,
   "metadata": {},
   "outputs": [
    {
     "data": {
      "text/html": [
       "<div>\n",
       "<style scoped>\n",
       "    .dataframe tbody tr th:only-of-type {\n",
       "        vertical-align: middle;\n",
       "    }\n",
       "\n",
       "    .dataframe tbody tr th {\n",
       "        vertical-align: top;\n",
       "    }\n",
       "\n",
       "    .dataframe thead th {\n",
       "        text-align: right;\n",
       "    }\n",
       "</style>\n",
       "<table border=\"1\" class=\"dataframe\">\n",
       "  <thead>\n",
       "    <tr style=\"text-align: right;\">\n",
       "      <th></th>\n",
       "      <th>comments</th>\n",
       "      <th>upvote</th>\n",
       "    </tr>\n",
       "  </thead>\n",
       "  <tbody>\n",
       "    <tr>\n",
       "      <th>0</th>\n",
       "      <td>以后应该补充一句，除了和平教徒，这样就客观了</td>\n",
       "      <td>0.00</td>\n",
       "    </tr>\n",
       "    <tr>\n",
       "      <th>1</th>\n",
       "      <td>吉安打砸知道不?工地打砸知道不?类似的事太多了，企业招的是生产价值的员工不是伺候不起的大爷</td>\n",
       "      <td>0.25</td>\n",
       "    </tr>\n",
       "    <tr>\n",
       "      <th>2</th>\n",
       "      <td>感谢你们普及清真的冷知识，大家都知道了就没麻烦了，当面告知这里不清真</td>\n",
       "      <td>2.00</td>\n",
       "    </tr>\n",
       "    <tr>\n",
       "      <th>3</th>\n",
       "      <td>自作孽不可活，退教归汉，户口本民族改掉！</td>\n",
       "      <td>1.00</td>\n",
       "    </tr>\n",
       "    <tr>\n",
       "      <th>4</th>\n",
       "      <td>进入公司后再要求清真餐，有法律法规规定任何公司和单位必须给回族等民族提供清真食堂，支持广大回...</td>\n",
       "      <td>8.75</td>\n",
       "    </tr>\n",
       "  </tbody>\n",
       "</table>\n",
       "</div>"
      ],
      "text/plain": [
       "                                            comments  upvote\n",
       "0                             以后应该补充一句，除了和平教徒，这样就客观了    0.00\n",
       "1      吉安打砸知道不?工地打砸知道不?类似的事太多了，企业招的是生产价值的员工不是伺候不起的大爷    0.25\n",
       "2                 感谢你们普及清真的冷知识，大家都知道了就没麻烦了，当面告知这里不清真    2.00\n",
       "3                               自作孽不可活，退教归汉，户口本民族改掉！    1.00\n",
       "4  进入公司后再要求清真餐，有法律法规规定任何公司和单位必须给回族等民族提供清真食堂，支持广大回...    8.75"
      ]
     },
     "execution_count": 10,
     "metadata": {},
     "output_type": "execute_result"
    }
   ],
   "source": [
    "import pandas as pd\n",
    "df = pd.read_excel(\"sentiment_analysis.xlsx\")\n",
    "df.head()"
   ]
  },
  {
   "cell_type": "code",
   "execution_count": 11,
   "metadata": {},
   "outputs": [],
   "source": [
    "text = df.comments.iloc[0]"
   ]
  },
  {
   "cell_type": "code",
   "execution_count": 12,
   "metadata": {},
   "outputs": [],
   "source": [
    "from snownlp import SnowNLP\n",
    "s = SnowNLP(text)"
   ]
  },
  {
   "cell_type": "code",
   "execution_count": 13,
   "metadata": {},
   "outputs": [
    {
     "data": {
      "text/plain": [
       "0.6769988035301895"
      ]
     },
     "execution_count": 13,
     "metadata": {},
     "output_type": "execute_result"
    }
   ],
   "source": [
    "s.sentiments"
   ]
  },
  {
   "cell_type": "code",
   "execution_count": 14,
   "metadata": {},
   "outputs": [],
   "source": [
    "def get_sentiment_cn(text):\n",
    "    s = SnowNLP(text)\n",
    "    return s.sentiments\n",
    "df[\"sentiment\"] = df.comments.apply(get_sentiment_cn)"
   ]
  },
  {
   "cell_type": "code",
   "execution_count": 15,
   "metadata": {},
   "outputs": [
    {
     "data": {
      "text/html": [
       "<div>\n",
       "<style scoped>\n",
       "    .dataframe tbody tr th:only-of-type {\n",
       "        vertical-align: middle;\n",
       "    }\n",
       "\n",
       "    .dataframe tbody tr th {\n",
       "        vertical-align: top;\n",
       "    }\n",
       "\n",
       "    .dataframe thead th {\n",
       "        text-align: right;\n",
       "    }\n",
       "</style>\n",
       "<table border=\"1\" class=\"dataframe\">\n",
       "  <thead>\n",
       "    <tr style=\"text-align: right;\">\n",
       "      <th></th>\n",
       "      <th>comments</th>\n",
       "      <th>upvote</th>\n",
       "      <th>sentiment</th>\n",
       "    </tr>\n",
       "  </thead>\n",
       "  <tbody>\n",
       "    <tr>\n",
       "      <th>0</th>\n",
       "      <td>以后应该补充一句，除了和平教徒，这样就客观了</td>\n",
       "      <td>0.00</td>\n",
       "      <td>0.676999</td>\n",
       "    </tr>\n",
       "    <tr>\n",
       "      <th>1</th>\n",
       "      <td>吉安打砸知道不?工地打砸知道不?类似的事太多了，企业招的是生产价值的员工不是伺候不起的大爷</td>\n",
       "      <td>0.25</td>\n",
       "      <td>0.000427</td>\n",
       "    </tr>\n",
       "    <tr>\n",
       "      <th>2</th>\n",
       "      <td>感谢你们普及清真的冷知识，大家都知道了就没麻烦了，当面告知这里不清真</td>\n",
       "      <td>2.00</td>\n",
       "      <td>0.052873</td>\n",
       "    </tr>\n",
       "    <tr>\n",
       "      <th>3</th>\n",
       "      <td>自作孽不可活，退教归汉，户口本民族改掉！</td>\n",
       "      <td>1.00</td>\n",
       "      <td>0.556416</td>\n",
       "    </tr>\n",
       "    <tr>\n",
       "      <th>4</th>\n",
       "      <td>进入公司后再要求清真餐，有法律法规规定任何公司和单位必须给回族等民族提供清真食堂，支持广大回...</td>\n",
       "      <td>8.75</td>\n",
       "      <td>0.992707</td>\n",
       "    </tr>\n",
       "  </tbody>\n",
       "</table>\n",
       "</div>"
      ],
      "text/plain": [
       "                                            comments  upvote  sentiment\n",
       "0                             以后应该补充一句，除了和平教徒，这样就客观了    0.00   0.676999\n",
       "1      吉安打砸知道不?工地打砸知道不?类似的事太多了，企业招的是生产价值的员工不是伺候不起的大爷    0.25   0.000427\n",
       "2                 感谢你们普及清真的冷知识，大家都知道了就没麻烦了，当面告知这里不清真    2.00   0.052873\n",
       "3                               自作孽不可活，退教归汉，户口本民族改掉！    1.00   0.556416\n",
       "4  进入公司后再要求清真餐，有法律法规规定任何公司和单位必须给回族等民族提供清真食堂，支持广大回...    8.75   0.992707"
      ]
     },
     "execution_count": 15,
     "metadata": {},
     "output_type": "execute_result"
    }
   ],
   "source": [
    "df.head()"
   ]
  },
  {
   "cell_type": "code",
   "execution_count": 16,
   "metadata": {},
   "outputs": [
    {
     "data": {
      "text/plain": [
       "0.5247402152053217"
      ]
     },
     "execution_count": 16,
     "metadata": {},
     "output_type": "execute_result"
    }
   ],
   "source": [
    "df.sentiment.mean()"
   ]
  },
  {
   "cell_type": "code",
   "execution_count": 17,
   "metadata": {},
   "outputs": [
    {
     "data": {
      "text/plain": [
       "0.5142852471232677"
      ]
     },
     "execution_count": 17,
     "metadata": {},
     "output_type": "execute_result"
    }
   ],
   "source": [
    "df.sentiment.median()"
   ]
  },
  {
   "cell_type": "code",
   "execution_count": 18,
   "metadata": {},
   "outputs": [],
   "source": [
    "df.to_excel('results.xls','sheet1')"
   ]
  },
  {
   "cell_type": "code",
   "execution_count": null,
   "metadata": {},
   "outputs": [],
   "source": []
  }
 ],
 "metadata": {
  "kernelspec": {
   "display_name": "Python 2",
   "language": "python",
   "name": "python2"
  },
  "language_info": {
   "codemirror_mode": {
    "name": "ipython",
    "version": 2
   },
   "file_extension": ".py",
   "mimetype": "text/x-python",
   "name": "python",
   "nbconvert_exporter": "python",
   "pygments_lexer": "ipython2",
   "version": "2.7.16"
  }
 },
 "nbformat": 4,
 "nbformat_minor": 2
}
